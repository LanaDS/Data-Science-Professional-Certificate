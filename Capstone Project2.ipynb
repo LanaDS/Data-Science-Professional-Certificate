{
    "cells": [
        {
            "cell_type": "markdown",
            "metadata": {
                "collapsed": true
            },
            "source": "# Capstone Project - The Battle of Neighborhoods  \n____\n# Analyzing Fire Incidents in Toronto\n"
        },
        {
            "cell_type": "markdown",
            "metadata": {},
            "source": "## Introduction\n___"
        },
        {
            "cell_type": "markdown",
            "metadata": {},
            "source": "### Introduction/Business Problem \n___"
        },
        {
            "cell_type": "markdown",
            "metadata": {},
            "source": "#### Toronto is the provincial capital of Ontario and the most populous city in Canada.The city is the anchor of the Golden Horseshoe, an urban agglomeration of 9,245,438 people (as of 2016) surrounding the western end of Lake Ontario. Toronto is an international centre of business, finance, arts, and culture, and is recognized as one of the most multicultural and cosmopolitan cities in the world. Toronto is very attractive city for moving in or opening new business. Therefore, it is very important to understand fire incidents safety before opening new business or choosing the living area. So, in this project we will try to find safe neighborhoods which the lowest rate of fire incidents in Toronto. \n#### The aim of this project is to find more safe location for opening new business , especialy restaurant business,  in Toronto, Canada. In this project , we will try to answer how to find the safe neighborhood for the restaurant business, where restaurants are not amongst the most common venues.\n#### Although, this project focused on restaurant business, it will be interested for individuals who try to find a safe place with good neighborhoods to move in or establish a business."
        },
        {
            "cell_type": "markdown",
            "metadata": {},
            "source": "### Data"
        },
        {
            "cell_type": "markdown",
            "metadata": {},
            "source": "#### In this project, we will use real data from City of Toronto Open Data, Wikipedia and the Foursquare location data. From City of Toronto Open Data we will use Fire Incidents dataset , from Wikipedia data about Neighborhood and finally, we wil use the Foursquare location data to fetch venues for the listed neigborhood. The Fire Incidents dataset will  need data wrangling and acquuistion, that's why we will merge it with data from Wikipedia and  in  combination with the Foursquare location data we will find the satisfying neigbhorhood for project's criteria."
        }
    ],
    "metadata": {
        "kernelspec": {
            "display_name": "Python 3.6",
            "language": "python",
            "name": "python3"
        },
        "language_info": {
            "codemirror_mode": {
                "name": "ipython",
                "version": 3
            },
            "file_extension": ".py",
            "mimetype": "text/x-python",
            "name": "python",
            "nbconvert_exporter": "python",
            "pygments_lexer": "ipython3",
            "version": "3.6.9"
        }
    },
    "nbformat": 4,
    "nbformat_minor": 1
}